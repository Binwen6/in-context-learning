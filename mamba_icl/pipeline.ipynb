{
 "cells": [
  {
   "cell_type": "markdown",
   "id": "ca32a7a6",
   "metadata": {},
   "source": [
    "## This pipeline is for model training, evaluation and visualization"
   ]
  },
  {
   "cell_type": "code",
   "execution_count": null,
   "id": "a7694034",
   "metadata": {},
   "outputs": [],
   "source": [
    "import torch\n",
    "from mamba_ssm import Mamba2\n",
    "from mamba2_icl import Mamba2ICL   "
   ]
  },
  {
   "cell_type": "code",
   "execution_count": null,
   "id": "5f5ad71d",
   "metadata": {},
   "outputs": [],
   "source": [
    "# Initialize model\n",
    "model = Mamba2ICL(d_model=20).to(\"cuda\")\n",
    "\n"
   ]
  },
  {
   "cell_type": "code",
   "execution_count": null,
   "id": "e023c932",
   "metadata": {},
   "outputs": [],
   "source": [
    "from torch.cuda.amp import autocast, GradScaler\n",
    "scaler = GradScaler()\n",
    "\n",
    "\n"
   ]
  },
  {
   "cell_type": "code",
   "execution_count": null,
   "id": "8502911a",
   "metadata": {},
   "outputs": [],
   "source": [
    "optimizer = torch.optim.Adam(model.parameters(), lr=1e-3)\n",
    "for epoch in range(10):\n",
    "    for prompts in [train_linear, train_gaussian, train_dynamical]:\n",
    "        for X, Y, x_query, y_query in prompts:\n",
    "            optimizer.zero_grad()\n",
    "            with autocast():\n",
    "                # Concatenate context and query\n",
    "                input_seq = torch.cat([torch.cat([X, Y.unsqueeze(-1)], dim=-1),\n",
    "                                      torch.cat([x_query.unsqueeze(0), torch.zeros(1, 1)], dim=-1)], dim=0).to(\"cuda\")\n",
    "                output = model(input_seq.unsqueeze(0))[:, -1, :]  # Predict at query\n",
    "                loss = torch.nn.functional.mse_loss(output, y_query.to(\"cuda\"))\n",
    "            scaler.scale(loss).backward()\n",
    "            scaler.step(optimizer)\n",
    "            scaler.update()"
   ]
  },
  {
   "cell_type": "code",
   "execution_count": null,
   "id": "7126bf6d",
   "metadata": {},
   "outputs": [],
   "source": []
  },
  {
   "cell_type": "code",
   "execution_count": null,
   "id": "26215315",
   "metadata": {},
   "outputs": [],
   "source": []
  },
  {
   "cell_type": "code",
   "execution_count": null,
   "id": "a91bcc1d",
   "metadata": {},
   "outputs": [],
   "source": []
  },
  {
   "cell_type": "code",
   "execution_count": null,
   "id": "e71476b9",
   "metadata": {},
   "outputs": [],
   "source": []
  }
 ],
 "metadata": {
  "kernelspec": {
   "display_name": "Python 3",
   "language": "python",
   "name": "python3"
  },
  "language_info": {
   "name": "python",
   "version": "3.10.12"
  }
 },
 "nbformat": 4,
 "nbformat_minor": 5
}
