{
 "cells": [
  {
   "cell_type": "markdown",
   "id": "ca32a7a6",
   "metadata": {},
   "source": [
    "## This pipeline is for model training, evaluation and visualization"
   ]
  },
  {
   "cell_type": "code",
   "execution_count": 3,
   "id": "a7694034",
   "metadata": {},
   "outputs": [
    {
     "ename": "ImportError",
     "evalue": "/root/code/mamba_icl_env/lib/python3.10/site-packages/selective_scan_cuda.cpython-310-x86_64-linux-gnu.so: undefined symbol: _ZN2at4_ops10zeros_like4callERKNS_6TensorESt8optionalIN3c1010ScalarTypeEES5_INS6_6LayoutEES5_INS6_6DeviceEES5_IbES5_INS6_12MemoryFormatEE",
     "output_type": "error",
     "traceback": [
      "\u001b[0;31m---------------------------------------------------------------------------\u001b[0m",
      "\u001b[0;31mImportError\u001b[0m                               Traceback (most recent call last)",
      "Cell \u001b[0;32mIn[3], line 10\u001b[0m\n\u001b[1;32m      7\u001b[0m \u001b[38;5;28;01mimport\u001b[39;00m\u001b[38;5;250m \u001b[39m\u001b[38;5;21;01mos\u001b[39;00m\n\u001b[1;32m      9\u001b[0m \u001b[38;5;66;03m# 导入同级目录的自定义模块\u001b[39;00m\n\u001b[0;32m---> 10\u001b[0m \u001b[38;5;28;01mfrom\u001b[39;00m\u001b[38;5;250m \u001b[39m\u001b[38;5;21;01mmamba2_icl\u001b[39;00m\u001b[38;5;250m \u001b[39m\u001b[38;5;28;01mimport\u001b[39;00m Mamba2ICL\n\u001b[1;32m     11\u001b[0m \u001b[38;5;28;01mfrom\u001b[39;00m\u001b[38;5;250m \u001b[39m\u001b[38;5;21;01mgenerate_icl_data\u001b[39;00m\u001b[38;5;250m \u001b[39m\u001b[38;5;28;01mimport\u001b[39;00m (generate_linear_data, generate_gaussian_kernel_data,\n\u001b[1;32m     12\u001b[0m                               generate_nonlinear_dynamical_data)\n\u001b[1;32m     13\u001b[0m \u001b[38;5;28;01mfrom\u001b[39;00m\u001b[38;5;250m \u001b[39m\u001b[38;5;21;01mevaluate_icl\u001b[39;00m\u001b[38;5;250m \u001b[39m\u001b[38;5;28;01mimport\u001b[39;00m evaluate\n",
      "File \u001b[0;32m~/code/in-context-learning/mamba_icl/mamba2_icl.py:2\u001b[0m\n\u001b[1;32m      1\u001b[0m \u001b[38;5;28;01mimport\u001b[39;00m\u001b[38;5;250m \u001b[39m\u001b[38;5;21;01mtorch\u001b[39;00m\n\u001b[0;32m----> 2\u001b[0m \u001b[38;5;28;01mfrom\u001b[39;00m\u001b[38;5;250m \u001b[39m\u001b[38;5;21;01mmamba_ssm\u001b[39;00m\u001b[38;5;250m \u001b[39m\u001b[38;5;28;01mimport\u001b[39;00m Mamba2\n\u001b[1;32m      4\u001b[0m \u001b[38;5;28;01mclass\u001b[39;00m\u001b[38;5;250m \u001b[39m\u001b[38;5;21;01mMamba2ICL\u001b[39;00m(torch\u001b[38;5;241m.\u001b[39mnn\u001b[38;5;241m.\u001b[39mModule):\n\u001b[1;32m      5\u001b[0m     \u001b[38;5;28;01mdef\u001b[39;00m\u001b[38;5;250m \u001b[39m\u001b[38;5;21m__init__\u001b[39m(\u001b[38;5;28mself\u001b[39m, d_model\u001b[38;5;241m=\u001b[39m\u001b[38;5;241m20\u001b[39m, d_state\u001b[38;5;241m=\u001b[39m\u001b[38;5;241m64\u001b[39m, d_conv\u001b[38;5;241m=\u001b[39m\u001b[38;5;241m4\u001b[39m, expand\u001b[38;5;241m=\u001b[39m\u001b[38;5;241m2\u001b[39m):\n",
      "File \u001b[0;32m~/code/mamba_icl_env/lib/python3.10/site-packages/mamba_ssm/__init__.py:3\u001b[0m\n\u001b[1;32m      1\u001b[0m __version__ \u001b[38;5;241m=\u001b[39m \u001b[38;5;124m\"\u001b[39m\u001b[38;5;124m2.2.4\u001b[39m\u001b[38;5;124m\"\u001b[39m\n\u001b[0;32m----> 3\u001b[0m \u001b[38;5;28;01mfrom\u001b[39;00m\u001b[38;5;250m \u001b[39m\u001b[38;5;21;01mmamba_ssm\u001b[39;00m\u001b[38;5;21;01m.\u001b[39;00m\u001b[38;5;21;01mops\u001b[39;00m\u001b[38;5;21;01m.\u001b[39;00m\u001b[38;5;21;01mselective_scan_interface\u001b[39;00m\u001b[38;5;250m \u001b[39m\u001b[38;5;28;01mimport\u001b[39;00m selective_scan_fn, mamba_inner_fn\n\u001b[1;32m      4\u001b[0m \u001b[38;5;28;01mfrom\u001b[39;00m\u001b[38;5;250m \u001b[39m\u001b[38;5;21;01mmamba_ssm\u001b[39;00m\u001b[38;5;21;01m.\u001b[39;00m\u001b[38;5;21;01mmodules\u001b[39;00m\u001b[38;5;21;01m.\u001b[39;00m\u001b[38;5;21;01mmamba_simple\u001b[39;00m\u001b[38;5;250m \u001b[39m\u001b[38;5;28;01mimport\u001b[39;00m Mamba\n\u001b[1;32m      5\u001b[0m \u001b[38;5;28;01mfrom\u001b[39;00m\u001b[38;5;250m \u001b[39m\u001b[38;5;21;01mmamba_ssm\u001b[39;00m\u001b[38;5;21;01m.\u001b[39;00m\u001b[38;5;21;01mmodules\u001b[39;00m\u001b[38;5;21;01m.\u001b[39;00m\u001b[38;5;21;01mmamba2\u001b[39;00m\u001b[38;5;250m \u001b[39m\u001b[38;5;28;01mimport\u001b[39;00m Mamba2\n",
      "File \u001b[0;32m~/code/mamba_icl_env/lib/python3.10/site-packages/mamba_ssm/ops/selective_scan_interface.py:18\u001b[0m\n\u001b[1;32m     14\u001b[0m     causal_conv1d_cuda \u001b[38;5;241m=\u001b[39m \u001b[38;5;28;01mNone\u001b[39;00m\n\u001b[1;32m     16\u001b[0m \u001b[38;5;28;01mfrom\u001b[39;00m\u001b[38;5;250m \u001b[39m\u001b[38;5;21;01mmamba_ssm\u001b[39;00m\u001b[38;5;21;01m.\u001b[39;00m\u001b[38;5;21;01mops\u001b[39;00m\u001b[38;5;21;01m.\u001b[39;00m\u001b[38;5;21;01mtriton\u001b[39;00m\u001b[38;5;21;01m.\u001b[39;00m\u001b[38;5;21;01mlayer_norm\u001b[39;00m\u001b[38;5;250m \u001b[39m\u001b[38;5;28;01mimport\u001b[39;00m _layer_norm_fwd\n\u001b[0;32m---> 18\u001b[0m \u001b[38;5;28;01mimport\u001b[39;00m\u001b[38;5;250m \u001b[39m\u001b[38;5;21;01mselective_scan_cuda\u001b[39;00m\n\u001b[1;32m     21\u001b[0m \u001b[38;5;28;01mclass\u001b[39;00m\u001b[38;5;250m \u001b[39m\u001b[38;5;21;01mSelectiveScanFn\u001b[39;00m(torch\u001b[38;5;241m.\u001b[39mautograd\u001b[38;5;241m.\u001b[39mFunction):\n\u001b[1;32m     23\u001b[0m     \u001b[38;5;129m@staticmethod\u001b[39m\n\u001b[1;32m     24\u001b[0m     \u001b[38;5;28;01mdef\u001b[39;00m\u001b[38;5;250m \u001b[39m\u001b[38;5;21mforward\u001b[39m(ctx, u, delta, A, B, C, D\u001b[38;5;241m=\u001b[39m\u001b[38;5;28;01mNone\u001b[39;00m, z\u001b[38;5;241m=\u001b[39m\u001b[38;5;28;01mNone\u001b[39;00m, delta_bias\u001b[38;5;241m=\u001b[39m\u001b[38;5;28;01mNone\u001b[39;00m, delta_softplus\u001b[38;5;241m=\u001b[39m\u001b[38;5;28;01mFalse\u001b[39;00m,\n\u001b[1;32m     25\u001b[0m                 return_last_state\u001b[38;5;241m=\u001b[39m\u001b[38;5;28;01mFalse\u001b[39;00m):\n",
      "\u001b[0;31mImportError\u001b[0m: /root/code/mamba_icl_env/lib/python3.10/site-packages/selective_scan_cuda.cpython-310-x86_64-linux-gnu.so: undefined symbol: _ZN2at4_ops10zeros_like4callERKNS_6TensorESt8optionalIN3c1010ScalarTypeEES5_INS6_6LayoutEES5_INS6_6DeviceEES5_IbES5_INS6_12MemoryFormatEE"
     ]
    }
   ],
   "source": [
    "# 导入标准库和第三方库\n",
    "import torch\n",
    "import numpy as np\n",
    "import matplotlib.pyplot as plt\n",
    "import pandas as pd\n",
    "from torch.cuda.amp import autocast, GradScaler\n",
    "import os\n",
    "\n",
    "# 导入同级目录的自定义模块\n",
    "from mamba2_icl import Mamba2ICL\n",
    "from generate_icl_data import (generate_linear_data, generate_gaussian_kernel_data,\n",
    "                              generate_nonlinear_dynamical_data)\n",
    "from evaluate_icl import evaluate\n",
    "\n",
    "# 设置随机种子以确保可复现性\n",
    "torch.manual_seed(42)\n",
    "np.random.seed(42)\n",
    "if torch.cuda.is_available():\n",
    "    torch.cuda.manual_seed_all(42)\n",
    "\n",
    "# 确认设备\n",
    "device = torch.device(\"cuda\" if torch.cuda.is_available() else \"cpu\")\n",
    "print(f\"Using device: {device}\")\n",
    "\n",
    "# 创建输出目录用于保存中间文件\n",
    "output_dir = \"experiment_outputs\"\n",
    "os.makedirs(output_dir, exist_ok=True)"
   ]
  },
  {
   "cell_type": "code",
   "execution_count": null,
   "id": "5f5ad71d",
   "metadata": {},
   "outputs": [],
   "source": [
    "# 数据生成参数（基于提案）\n",
    "num_train_prompts = 10000\n",
    "num_test_prompts = 1000\n",
    "context_size = 20\n",
    "d = 20\n",
    "\n",
    "# 生成数据集\n",
    "print(\"Generating datasets...\")\n",
    "train_linear = generate_linear_data(num_train_prompts, context_size, d)\n",
    "test_linear = generate_linear_data(num_test_prompts, context_size, d)\n",
    "train_gaussian = generate_gaussian_kernel_data(num_train_prompts, context_size, d)\n",
    "test_gaussian = generate_gaussian_kernel_data(num_test_prompts, context_size, d)\n",
    "train_dynamical = generate_nonlinear_dynamical_data(num_train_prompts, context_size, d)\n",
    "test_dynamical = generate_nonlinear_dynamical_data(num_test_prompts, context_size, d)\n",
    "\n",
    "# 保存数据集\n",
    "print(\"Saving datasets...\")\n",
    "torch.save(train_linear, os.path.join(output_dir, \"train_linear.pt\"))\n",
    "torch.save(test_linear, os.path.join(output_dir, \"test_linear.pt\"))\n",
    "torch.save(train_gaussian, os.path.join(output_dir, \"train_gaussian.pt\"))\n",
    "torch.save(test_gaussian, os.path.join(output_dir, \"test_gaussian.pt\"))\n",
    "torch.save(train_dynamical, os.path.join(output_dir, \"train_dynamical.pt\"))\n",
    "torch.save(test_dynamical, os.path.join(output_dir, \"test_dynamical.pt\"))\n",
    "\n",
    "# 验证数据集大小\n",
    "print(f\"Train linear prompts: {len(train_linear)}\")\n",
    "print(f\"Test linear prompts: {len(test_linear)}\")\n",
    "print(f\"Train gaussian prompts: {len(train_gaussian)}\")\n",
    "print(f\"Test gaussian prompts: {len(test_gaussian)}\")\n",
    "print(f\"Train dynamical prompts: {len(train_dynamical)}\")\n",
    "print(f\"Test dynamical prompts: {len(test_dynamical)}\")"
   ]
  },
  {
   "cell_type": "code",
   "execution_count": null,
   "id": "e023c932",
   "metadata": {},
   "outputs": [],
   "source": [
    "# 初始化 Mamba2 ICL 模型\n",
    "model = Mamba2ICL(d_model=20, d_state=64, d_conv=4, expand=2).to(device)\n",
    "\n",
    "# 定义优化器和混合精度训练工具\n",
    "optimizer = torch.optim.Adam(model.parameters(), lr=1e-3)\n",
    "scaler = GradScaler()\n",
    "\n",
    "# 打印模型结构\n",
    "print(model)"
   ]
  },
  {
   "cell_type": "code",
   "execution_count": null,
   "id": "8502911a",
   "metadata": {},
   "outputs": [],
   "source": [
    "# 训练参数\n",
    "num_epochs = 10\n",
    "datasets = [\n",
    "    (\"linear\", train_linear),\n",
    "    (\"gaussian\", train_gaussian),\n",
    "    (\"dynamical\", train_dynamical)\n",
    "]\n",
    "\n",
    "# 记录损失\n",
    "loss_history = []\n",
    "\n",
    "# 训练循环\n",
    "print(\"Starting training...\")\n",
    "for epoch in range(num_epochs):\n",
    "    model.train()\n",
    "    epoch_loss = 0\n",
    "    num_batches = 0\n",
    "    \n",
    "    for dataset_name, train_data in datasets:\n",
    "        for X, Y, x_query, y_query in train_data:\n",
    "            optimizer.zero_grad()\n",
    "            with autocast():\n",
    "                # 构建输入序列：20 个上下文 (x, y) + 1 个查询 (x, 0)\n",
    "                input_seq = torch.cat([\n",
    "                    torch.cat([X, Y.unsqueeze(-1)], dim=-1),\n",
    "                    torch.cat([x_query.unsqueeze(0), torch.zeros(1, 1)], dim=-1)\n",
    "                ], dim=0).to(device)\n",
    "                output = model(input_seq.unsqueeze(0))[:, -1, :]  # 预测查询点\n",
    "                loss = torch.nn.functional.mse_loss(output, y_query.to(device))\n",
    "            \n",
    "            scaler.scale(loss).backward()\n",
    "            scaler.step(optimizer)\n",
    "            scaler.update()\n",
    "            \n",
    "            epoch_loss += loss.item()\n",
    "            num_batches += 1\n",
    "    \n",
    "    avg_loss = epoch_loss / num_batches\n",
    "    loss_history.append({\"epoch\": epoch + 1, \"loss\": avg_loss})\n",
    "    print(f\"Epoch {epoch + 1}/{num_epochs}, Average Loss: {avg_loss:.6f}\")\n",
    "\n",
    "# 保存损失记录\n",
    "loss_df = pd.DataFrame(loss_history)\n",
    "loss_df.to_csv(os.path.join(output_dir, \"loss_history.csv\"), index=False)\n",
    "print(\"Loss history saved to experiment_outputs/loss_history.csv\")"
   ]
  },
  {
   "cell_type": "code",
   "execution_count": null,
   "id": "7126bf6d",
   "metadata": {},
   "outputs": [],
   "source": [
    "# 保存模型权重\n",
    "model_path = os.path.join(output_dir, \"mamba2_icl_model.pth\")\n",
    "torch.save(model.state_dict(), model_path)\n",
    "print(f\"Model weights saved to {model_path}\")"
   ]
  },
  {
   "cell_type": "code",
   "execution_count": null,
   "id": "26215315",
   "metadata": {},
   "outputs": [],
   "source": [
    "# 评估模型\n",
    "print(\"Evaluating model...\")\n",
    "results = {\n",
    "    \"Dataset\": [\"Linear\", \"Gaussian\", \"Dynamical\"],\n",
    "    \"MSE\": [\n",
    "        evaluate(model, test_linear),\n",
    "        evaluate(model, test_gaussian),\n",
    "        evaluate(model, test_dynamical)\n",
    "    ]\n",
    "}\n",
    "\n",
    "# 保存评估结果\n",
    "results_df = pd.DataFrame(results)\n",
    "results_df.to_csv(os.path.join(output_dir, \"evaluation_results.csv\"), index=False)\n",
    "print(\"Evaluation results saved to experiment_outputs/evaluation_results.csv\")\n",
    "print(results_df)"
   ]
  },
  {
   "cell_type": "code",
   "execution_count": null,
   "id": "a91bcc1d",
   "metadata": {},
   "outputs": [],
   "source": [
    "# 绘制损失曲线\n",
    "plt.figure(figsize=(10, 6))\n",
    "plt.plot(loss_df[\"epoch\"], loss_df[\"loss\"], marker='o', label=\"Training Loss\")\n",
    "plt.xlabel(\"Epoch\")\n",
    "plt.ylabel(\"Average MSE Loss\")\n",
    "plt.title(\"Training Loss over Epochs\")\n",
    "plt.legend()\n",
    "plt.grid(True)\n",
    "\n",
    "# 保存图像\n",
    "plot_path = os.path.join(output_dir, \"loss_plot.png\")\n",
    "plt.savefig(plot_path)\n",
    "plt.show()\n",
    "print(f\"Loss plot saved to {plot_path}\")"
   ]
  },
  {
   "cell_type": "code",
   "execution_count": null,
   "id": "e71476b9",
   "metadata": {},
   "outputs": [],
   "source": []
  }
 ],
 "metadata": {
  "kernelspec": {
   "display_name": "Mamba ICL Env",
   "language": "python",
   "name": "mamba_icl_env"
  },
  "language_info": {
   "codemirror_mode": {
    "name": "ipython",
    "version": 3
   },
   "file_extension": ".py",
   "mimetype": "text/x-python",
   "name": "python",
   "nbconvert_exporter": "python",
   "pygments_lexer": "ipython3",
   "version": "3.10.12"
  }
 },
 "nbformat": 4,
 "nbformat_minor": 5
}
