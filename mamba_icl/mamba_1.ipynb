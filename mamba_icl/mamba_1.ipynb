{
 "cells": [
  {
   "cell_type": "code",
   "execution_count": 1,
   "id": "ee0a479e",
   "metadata": {},
   "outputs": [
    {
     "name": "stdout",
     "output_type": "stream",
     "text": [
      "mamba_ssm version: 1.2.0.post1\n",
      "Using device: cuda\n",
      "NumPy version: 1.26.4\n",
      "PyTorch version: 2.1.1+cu118, CUDA: 11.8\n"
     ]
    }
   ],
   "source": [
    "# 导入标准库和第三方库\n",
    "import torch\n",
    "import numpy as np\n",
    "import matplotlib.pyplot as plt\n",
    "import pandas as pd\n",
    "from torch.cuda.amp import autocast, GradScaler\n",
    "import os\n",
    "\n",
    "# 验证 mamba_ssm 导入\n",
    "import mamba_ssm\n",
    "print(f\"mamba_ssm version: {mamba_ssm.__version__}\")\n",
    "\n",
    "# 导入同级目录的自定义模块\n",
    "from mamba1_icl import Mamba1ICL\n",
    "from generate_icl_data import (generate_linear_data, generate_gaussian_kernel_data,\n",
    "                              generate_nonlinear_dynamical_data)\n",
    "\n",
    "# 设置随机种子以确保可复现性\n",
    "torch.manual_seed(42)\n",
    "np.random.seed(42)\n",
    "if torch.cuda.is_available():\n",
    "    torch.cuda.manual_seed_all(42)\n",
    "\n",
    "# 确认设备\n",
    "device = torch.device(\"cuda\" if torch.cuda.is_available() else \"cpu\")\n",
    "print(f\"Using device: {device}\")\n",
    "\n",
    "# 创建输出目录用于保存中间文件\n",
    "output_dir = \"experiment_outputs_mamba1\"\n",
    "os.makedirs(output_dir, exist_ok=True)\n",
    "\n",
    "# 验证环境\n",
    "print(f\"NumPy version: {np.__version__}\")\n",
    "print(f\"PyTorch version: {torch.__version__}, CUDA: {torch.version.cuda}\")"
   ]
  },
  {
   "cell_type": "code",
   "execution_count": 4,
   "id": "f1f9c834",
   "metadata": {},
   "outputs": [
    {
     "name": "stdout",
     "output_type": "stream",
     "text": [
      "Generating datasets...\n",
      "Saving datasets...\n",
      "Train linear prompts: 10000\n",
      "Test linear prompts: 1000\n",
      "Train gaussian prompts: 10000\n",
      "Test gaussian prompts: 1000\n",
      "Train dynamical prompts: 10000\n",
      "Test dynamical prompts: 1000\n"
     ]
    }
   ],
   "source": [
    "# 数据生成参数（基于提案）\n",
    "num_train_prompts = 10000\n",
    "num_test_prompts = 1000\n",
    "context_size = 20\n",
    "d = 20\n",
    "\n",
    "# 生成数据集\n",
    "print(\"Generating datasets...\")\n",
    "train_linear = generate_linear_data(num_train_prompts, context_size, d)\n",
    "test_linear = generate_linear_data(num_test_prompts, context_size, d)\n",
    "train_gaussian = generate_gaussian_kernel_data(num_train_prompts, context_size, d)\n",
    "test_gaussian = generate_gaussian_kernel_data(num_test_prompts, context_size, d)\n",
    "train_dynamical = generate_nonlinear_dynamical_data(num_train_prompts, context_size, d)\n",
    "test_dynamical = generate_nonlinear_dynamical_data(num_test_prompts, context_size, d)\n",
    "\n",
    "# 保存数据集\n",
    "print(\"Saving datasets...\")\n",
    "torch.save(train_linear, os.path.join(output_dir, \"train_linear.pt\"))\n",
    "torch.save(test_linear, os.path.join(output_dir, \"test_linear.pt\"))\n",
    "torch.save(train_gaussian, os.path.join(output_dir, \"train_gaussian.pt\"))\n",
    "torch.save(test_gaussian, os.path.join(output_dir, \"test_gaussian.pt\"))\n",
    "torch.save(train_dynamical, os.path.join(output_dir, \"train_dynamical.pt\"))\n",
    "torch.save(test_dynamical, os.path.join(output_dir, \"test_dynamical.pt\"))\n",
    "\n",
    "# 验证数据集大小\n",
    "print(f\"Train linear prompts: {len(train_linear)}\")\n",
    "print(f\"Test linear prompts: {len(test_linear)}\")\n",
    "print(f\"Train gaussian prompts: {len(train_gaussian)}\")\n",
    "print(f\"Test gaussian prompts: {len(test_gaussian)}\")\n",
    "print(f\"Train dynamical prompts: {len(train_dynamical)}\")\n",
    "print(f\"Test dynamical prompts: {len(test_dynamical)}\")"
   ]
  },
  {
   "cell_type": "code",
   "execution_count": 2,
   "id": "339452d9",
   "metadata": {},
   "outputs": [
    {
     "name": "stdout",
     "output_type": "stream",
     "text": [
      "Mamba1ICL(\n",
      "  (mamba): Mamba(\n",
      "    (in_proj): Linear(in_features=20, out_features=80, bias=False)\n",
      "    (conv1d): Conv1d(40, 40, kernel_size=(4,), stride=(1,), padding=(3,), groups=40)\n",
      "    (act): SiLU()\n",
      "    (x_proj): Linear(in_features=40, out_features=130, bias=False)\n",
      "    (dt_proj): Linear(in_features=2, out_features=40, bias=True)\n",
      "    (out_proj): Linear(in_features=40, out_features=20, bias=False)\n",
      "  )\n",
      "  (output_head): Linear(in_features=20, out_features=1, bias=True)\n",
      ")\n"
     ]
    }
   ],
   "source": [
    "# 初始化 Mamba1 ICL 模型\n",
    "model = Mamba1ICL(d_model=20, d_state=64, d_conv=4, expand=2).to(device)\n",
    "\n",
    "# 定义优化器和混合精度训练工具\n",
    "optimizer = torch.optim.Adam(model.parameters(), lr=1e-3)\n",
    "scaler = GradScaler()\n",
    "\n",
    "# 打印模型结构\n",
    "print(model)"
   ]
  },
  {
   "cell_type": "code",
   "execution_count": null,
   "id": "a90df762-0918-459c-b438-fb350272617d",
   "metadata": {},
   "outputs": [
    {
     "name": "stdout",
     "output_type": "stream",
     "text": [
      "Starting training...\n"
     ]
    },
    {
     "name": "stderr",
     "output_type": "stream",
     "text": [
      "/tmp/ipykernel_15828/3225334820.py:26: UserWarning: Using a target size (torch.Size([1])) that is different to the input size (torch.Size([1, 1])). This will likely lead to incorrect results due to broadcasting. Please ensure they have the same size.\n",
      "  loss = torch.nn.functional.mse_loss(output, torch.tensor([y_query], dtype=torch.float32).to(device))\n"
     ]
    },
    {
     "name": "stdout",
     "output_type": "stream",
     "text": [
      "Epoch 1/10, Average Loss: 0.375188\n"
     ]
    }
   ],
   "source": [
    "# 训练参数\n",
    "num_epochs = 10\n",
    "datasets = [\n",
    "    (\"linear\", train_linear),\n",
    "    (\"gaussian\", train_gaussian),\n",
    "    (\"dynamical\", train_dynamical)\n",
    "]\n",
    "\n",
    "# 记录损失\n",
    "loss_history = []\n",
    "\n",
    "# 训练循环\n",
    "print(\"Starting training...\")\n",
    "for epoch in range(num_epochs):\n",
    "    model.train()\n",
    "    epoch_loss = 0\n",
    "    num_batches = 0\n",
    "    \n",
    "    for dataset_name, train_data in datasets:\n",
    "        for X, Y, x_query, y_query in train_data:\n",
    "            optimizer.zero_grad()\n",
    "            with autocast():\n",
    "                # 构造序列：20 个上下文 X + 1 个查询 x_query\n",
    "                input_seq = torch.cat([X, x_query.unsqueeze(0)], dim=0).to(device)  # [21, 20]\n",
    "                output = model(input_seq.unsqueeze(0))[:, -1, :]  # [1, 1]\n",
    "                loss = torch.nn.functional.mse_loss(output, torch.tensor([y_query], dtype=torch.float32).to(device))\n",
    "            \n",
    "            scaler.scale(loss).backward()\n",
    "            scaler.step(optimizer)\n",
    "            scaler.update()\n",
    "            \n",
    "            epoch_loss += loss.item()\n",
    "            num_batches += 1\n",
    "    \n",
    "    avg_loss = epoch_loss / num_batches\n",
    "    loss_history.append({\"epoch\": epoch + 1, \"loss\": avg_loss})\n",
    "    print(f\"Epoch {epoch + 1}/{num_epochs}, Average Loss: {avg_loss:.6f}\")\n",
    "\n",
    "# 保存损失记录\n",
    "loss_df = pd.DataFrame(loss_history)\n",
    "loss_df.to_csv(os.path.join(output_dir, \"loss_history.csv\"), index=False)\n",
    "print(\"Loss history saved to experiment_outputs_mamba1/loss_history.csv\")"
   ]
  },
  {
   "cell_type": "code",
   "execution_count": null,
   "id": "a1d637c2-a969-410e-b0cf-4ba0f8923fc8",
   "metadata": {},
   "outputs": [],
   "source": [
    "# 保存模型权重\n",
    "model_path = os.path.join(output_dir, \"mamba1_icl_model.pth\")\n",
    "torch.save(model.state_dict(), model_path)\n",
    "print(f\"Model weights saved to {model_path}\")"
   ]
  },
  {
   "cell_type": "code",
   "execution_count": null,
   "id": "d59d1b06-5e9c-4b34-825e-51c7efa1ea96",
   "metadata": {},
   "outputs": [],
   "source": [
    "from evaluate_icl import evaluate\n"
   ]
  },
  {
   "cell_type": "code",
   "execution_count": null,
   "id": "0131e115-5d00-4445-b9de-e5e8dbdb295b",
   "metadata": {},
   "outputs": [],
   "source": [
    "# 评估模型\n",
    "print(\"Evaluating model...\")\n",
    "results = {\n",
    "    \"Dataset\": [\"Linear\", \"Gaussian\", \"Dynamical\"],\n",
    "    \"MSE\": [\n",
    "        evaluate(model, test_linear),\n",
    "        evaluate(model, test_gaussian),\n",
    "        evaluate(model, test_dynamical)\n",
    "    ]\n",
    "}\n",
    "\n",
    "# 保存评估结果\n",
    "results_df = pd.DataFrame(results)\n",
    "results_df.to_csv(os.path.join(output_dir, \"evaluation_results.csv\"), index=False)\n",
    "print(\"Evaluation results saved to experiment_outputs_mamba1/evaluation_results.csv\")\n",
    "print(results_df)"
   ]
  },
  {
   "cell_type": "code",
   "execution_count": null,
   "id": "1a6411a8-cf2f-4b75-b618-f132cd43b0b5",
   "metadata": {},
   "outputs": [],
   "source": [
    "# 绘制损失曲线\n",
    "plt.figure(figsize=(10, 6))\n",
    "plt.plot(loss_df[\"epoch\"], loss_df[\"loss\"], marker='o', label=\"Training Loss\")\n",
    "plt.xlabel(\"Epoch\")\n",
    "plt.ylabel(\"Average MSE Loss\")\n",
    "plt.title(\"Training Loss over Epochs (Mamba1)\")\n",
    "plt.legend()\n",
    "plt.grid(True)\n",
    "\n",
    "# 保存图像\n",
    "plot_path = os.path.join(output_dir, \"loss_plot.png\")\n",
    "plt.savefig(plot_path)\n",
    "plt.show()\n",
    "print(f\"Loss plot saved to {plot_path}\")"
   ]
  },
  {
   "cell_type": "code",
   "execution_count": null,
   "id": "937f4012-dce0-46ee-af3f-9829eb1fd040",
   "metadata": {},
   "outputs": [],
   "source": []
  },
  {
   "cell_type": "code",
   "execution_count": null,
   "id": "3b1e362a-2cb2-43b8-b4a7-61c63715fa18",
   "metadata": {},
   "outputs": [],
   "source": []
  },
  {
   "cell_type": "code",
   "execution_count": null,
   "id": "e397a7d1-1297-4d57-b461-6baa1d73974f",
   "metadata": {},
   "outputs": [],
   "source": []
  },
  {
   "cell_type": "code",
   "execution_count": null,
   "id": "2fe6121d-b486-45ae-b54d-7d85e6530ee0",
   "metadata": {},
   "outputs": [],
   "source": []
  },
  {
   "cell_type": "code",
   "execution_count": null,
   "id": "2d98b468-6e23-4255-a494-e41a24a14e43",
   "metadata": {},
   "outputs": [],
   "source": []
  },
  {
   "cell_type": "code",
   "execution_count": null,
   "id": "4d5bc625-4dfb-48de-9d4c-441edbf1dda0",
   "metadata": {},
   "outputs": [],
   "source": []
  },
  {
   "cell_type": "code",
   "execution_count": null,
   "id": "c01437ac-5f9e-45a1-9270-cad3decf1938",
   "metadata": {},
   "outputs": [],
   "source": []
  },
  {
   "cell_type": "code",
   "execution_count": null,
   "id": "8a88bffd-b778-4813-9338-3555d5e7bd56",
   "metadata": {},
   "outputs": [],
   "source": []
  }
 ],
 "metadata": {
  "kernelspec": {
   "display_name": "Mamba ICL Env",
   "language": "python",
   "name": "mamba_icl_env"
  },
  "language_info": {
   "codemirror_mode": {
    "name": "ipython",
    "version": 3
   },
   "file_extension": ".py",
   "mimetype": "text/x-python",
   "name": "python",
   "nbconvert_exporter": "python",
   "pygments_lexer": "ipython3",
   "version": "3.10.12"
  }
 },
 "nbformat": 4,
 "nbformat_minor": 5
}
