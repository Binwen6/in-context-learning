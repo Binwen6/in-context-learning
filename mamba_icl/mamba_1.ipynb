{
 "cells": [
  {
   "cell_type": "code",
   "execution_count": 1,
   "id": "ee0a479e",
   "metadata": {},
   "outputs": [
    {
     "name": "stdout",
     "output_type": "stream",
     "text": [
      "mamba_ssm version: 1.2.0.post1\n",
      "Using device: cuda\n",
      "NumPy version: 1.26.4\n",
      "PyTorch version: 2.1.1+cu118, CUDA: 11.8\n"
     ]
    }
   ],
   "source": [
    "# 导入标准库和第三方库\n",
    "import torch\n",
    "import numpy as np\n",
    "import matplotlib.pyplot as plt\n",
    "import pandas as pd\n",
    "from torch.cuda.amp import autocast, GradScaler\n",
    "import os\n",
    "\n",
    "# 验证 mamba_ssm 导入\n",
    "import mamba_ssm\n",
    "print(f\"mamba_ssm version: {mamba_ssm.__version__}\")\n",
    "\n",
    "# 导入同级目录的自定义模块\n",
    "from mamba1_icl import Mamba1ICL\n",
    "from generate_icl_data import (generate_linear_data, generate_gaussian_kernel_data,\n",
    "                              generate_nonlinear_dynamical_data)\n",
    "\n",
    "# 设置随机种子以确保可复现性\n",
    "torch.manual_seed(42)\n",
    "np.random.seed(42)\n",
    "if torch.cuda.is_available():\n",
    "    torch.cuda.manual_seed_all(42)\n",
    "\n",
    "# 确认设备\n",
    "device = torch.device(\"cuda\" if torch.cuda.is_available() else \"cpu\")\n",
    "print(f\"Using device: {device}\")\n",
    "\n",
    "# 创建输出目录用于保存中间文件\n",
    "output_dir = \"experiment_outputs_mamba1\"\n",
    "os.makedirs(output_dir, exist_ok=True)\n",
    "\n",
    "# 验证环境\n",
    "print(f\"NumPy version: {np.__version__}\")\n",
    "print(f\"PyTorch version: {torch.__version__}, CUDA: {torch.version.cuda}\")"
   ]
  },
  {
   "cell_type": "code",
   "execution_count": 2,
   "id": "f1f9c834",
   "metadata": {},
   "outputs": [
    {
     "name": "stdout",
     "output_type": "stream",
     "text": [
      "Generating datasets...\n",
      "Saving datasets...\n",
      "Train linear prompts: 10000\n",
      "Test linear prompts: 1000\n",
      "Train gaussian prompts: 10000\n",
      "Test gaussian prompts: 1000\n",
      "Train dynamical prompts: 10000\n",
      "Test dynamical prompts: 1000\n"
     ]
    }
   ],
   "source": [
    "# 数据生成参数（基于提案）\n",
    "num_train_prompts = 10000\n",
    "num_test_prompts = 1000\n",
    "context_size = 20\n",
    "d = 20\n",
    "\n",
    "# 生成数据集\n",
    "print(\"Generating datasets...\")\n",
    "train_linear = generate_linear_data(num_train_prompts, context_size, d)\n",
    "test_linear = generate_linear_data(num_test_prompts, context_size, d)\n",
    "train_gaussian = generate_gaussian_kernel_data(num_train_prompts, context_size, d)\n",
    "test_gaussian = generate_gaussian_kernel_data(num_test_prompts, context_size, d)\n",
    "train_dynamical = generate_nonlinear_dynamical_data(num_train_prompts, context_size, d)\n",
    "test_dynamical = generate_nonlinear_dynamical_data(num_test_prompts, context_size, d)\n",
    "\n",
    "# 保存数据集\n",
    "print(\"Saving datasets...\")\n",
    "torch.save(train_linear, os.path.join(output_dir, \"train_linear.pt\"))\n",
    "torch.save(test_linear, os.path.join(output_dir, \"test_linear.pt\"))\n",
    "torch.save(train_gaussian, os.path.join(output_dir, \"train_gaussian.pt\"))\n",
    "torch.save(test_gaussian, os.path.join(output_dir, \"test_gaussian.pt\"))\n",
    "torch.save(train_dynamical, os.path.join(output_dir, \"train_dynamical.pt\"))\n",
    "torch.save(test_dynamical, os.path.join(output_dir, \"test_dynamical.pt\"))\n",
    "\n",
    "# 验证数据集大小\n",
    "print(f\"Train linear prompts: {len(train_linear)}\")\n",
    "print(f\"Test linear prompts: {len(test_linear)}\")\n",
    "print(f\"Train gaussian prompts: {len(train_gaussian)}\")\n",
    "print(f\"Test gaussian prompts: {len(test_gaussian)}\")\n",
    "print(f\"Train dynamical prompts: {len(train_dynamical)}\")\n",
    "print(f\"Test dynamical prompts: {len(test_dynamical)}\")"
   ]
  },
  {
   "cell_type": "code",
   "execution_count": 3,
   "id": "339452d9",
   "metadata": {},
   "outputs": [
    {
     "name": "stdout",
     "output_type": "stream",
     "text": [
      "Mamba1ICL(\n",
      "  (mamba): Mamba(\n",
      "    (in_proj): Linear(in_features=20, out_features=80, bias=False)\n",
      "    (conv1d): Conv1d(40, 40, kernel_size=(4,), stride=(1,), padding=(3,), groups=40)\n",
      "    (act): SiLU()\n",
      "    (x_proj): Linear(in_features=40, out_features=130, bias=False)\n",
      "    (dt_proj): Linear(in_features=2, out_features=40, bias=True)\n",
      "    (out_proj): Linear(in_features=40, out_features=20, bias=False)\n",
      "  )\n",
      "  (output_head): Linear(in_features=20, out_features=1, bias=True)\n",
      "  (y_projection): Linear(in_features=1, out_features=20, bias=True)\n",
      ")\n"
     ]
    }
   ],
   "source": [
    "# 初始化 Mamba1 ICL 模型\n",
    "model = Mamba1ICL(d_model=20, d_state=64, d_conv=4, expand=2).to(device)\n",
    "\n",
    "# 定义优化器和混合精度训练工具\n",
    "optimizer = torch.optim.Adam(model.parameters(), lr=1e-3)\n",
    "scaler = GradScaler()\n",
    "\n",
    "# 打印模型结构\n",
    "print(model)"
   ]
  },
  {
   "cell_type": "code",
   "execution_count": 4,
   "id": "a90df762-0918-459c-b438-fb350272617d",
   "metadata": {},
   "outputs": [
    {
     "name": "stdout",
     "output_type": "stream",
     "text": [
      "Starting training...\n",
      "Epoch 1/10, Average Loss: 0.387944\n",
      "Epoch 2/10, Average Loss: 0.392617\n",
      "Epoch 3/10, Average Loss: 0.385770\n",
      "Epoch 4/10, Average Loss: 0.381885\n",
      "Epoch 5/10, Average Loss: 0.374998\n",
      "Epoch 6/10, Average Loss: 0.367413\n",
      "Epoch 7/10, Average Loss: 0.361106\n",
      "Epoch 8/10, Average Loss: 0.354032\n",
      "Epoch 9/10, Average Loss: 0.345326\n",
      "Epoch 10/10, Average Loss: 0.332585\n",
      "Loss history saved to experiment_outputs_mamba1/loss_history.csv\n"
     ]
    }
   ],
   "source": [
    "# 训练参数\n",
    "num_epochs = 100\n",
    "batch_size = 128\n",
    "datasets = [\n",
    "    (\"linear\", train_linear),\n",
    "    (\"gaussian\", train_gaussian),\n",
    "    (\"dynamical\", train_dynamical)\n",
    "]\n",
    "\n",
    "# 记录损失\n",
    "loss_history = []\n",
    "\n",
    "# 训练循环\n",
    "print(\"Starting training...\")\n",
    "for epoch in range(num_epochs):\n",
    "    model.train()\n",
    "    epoch_loss = 0\n",
    "    num_batches = 0\n",
    "    \n",
    "    for dataset_name, train_data in datasets:\n",
    "        for i in range(0, len(train_data), batch_size):\n",
    "            batch = train_data[i:i + batch_size]\n",
    "            X_batch = torch.stack([X for X, _, _, _ in batch])  # [batch, 20, 20]\n",
    "            Y_batch = torch.stack([Y for _, Y, _, _ in batch])  # [batch, 20]\n",
    "            x_query_batch = torch.stack([x_query for _, _, x_query, _ in batch])  # [batch, 20]\n",
    "            y_query_batch = torch.tensor([[y_query] for _, _, _, y_query in batch], dtype=torch.float32).to(device)  # [batch, 1]\n",
    "            \n",
    "            optimizer.zero_grad()\n",
    "            with autocast():\n",
    "                # 构造序列：20 个 (X_i, Y_i) 对 + 查询\n",
    "                input_seq = torch.cat([X_batch, x_query_batch.unsqueeze(1)], dim=1).to(device)  # [batch, 21, 20]\n",
    "                output = model(input_seq, Y_batch)  # [batch, 1]\n",
    "                loss = torch.nn.functional.mse_loss(output, y_query_batch)\n",
    "            \n",
    "            scaler.scale(loss).backward()\n",
    "            scaler.step(optimizer)\n",
    "            scaler.update()\n",
    "            \n",
    "            epoch_loss += loss.item() * len(batch)\n",
    "            num_batches += len(batch)\n",
    "    \n",
    "    avg_loss = epoch_loss / num_batches\n",
    "    loss_history.append({\"epoch\": epoch + 1, \"loss\": avg_loss})\n",
    "    print(f\"Epoch {epoch + 1}/{num_epochs}, Average Loss: {avg_loss:.6f}\")\n",
    "\n",
    "# 保存损失记录\n",
    "loss_df = pd.DataFrame(loss_history)\n",
    "loss_df.to_csv(os.path.join(output_dir, \"loss_history.csv\"), index=False)\n",
    "print(\"Loss history saved to experiment_outputs_mamba1/loss_history.csv\")"
   ]
  },
  {
   "cell_type": "code",
   "execution_count": 5,
   "id": "a1d637c2-a969-410e-b0cf-4ba0f8923fc8",
   "metadata": {},
   "outputs": [
    {
     "name": "stdout",
     "output_type": "stream",
     "text": [
      "Model weights saved to experiment_outputs_mamba1/mamba1_icl_model.pth\n"
     ]
    }
   ],
   "source": [
    "# 保存模型权重\n",
    "model_path = os.path.join(output_dir, \"mamba1_icl_model.pth\")\n",
    "torch.save(model.state_dict(), model_path)\n",
    "print(f\"Model weights saved to {model_path}\")"
   ]
  },
  {
   "cell_type": "code",
   "execution_count": 6,
   "id": "d59d1b06-5e9c-4b34-825e-51c7efa1ea96",
   "metadata": {},
   "outputs": [],
   "source": [
    "from evaluate_icl import evaluate\n"
   ]
  },
  {
   "cell_type": "code",
   "execution_count": 7,
   "id": "0131e115-5d00-4445-b9de-e5e8dbdb295b",
   "metadata": {},
   "outputs": [
    {
     "name": "stdout",
     "output_type": "stream",
     "text": [
      "Evaluating model...\n",
      "Evaluation results saved to experiment_outputs_mamba1/evaluation_results.csv\n",
      "     Dataset       MSE\n",
      "0     Linear  1.278071\n",
      "1   Gaussian  0.176734\n",
      "2  Dynamical  0.007726\n"
     ]
    }
   ],
   "source": [
    "# 评估模型\n",
    "print(\"Evaluating model with varying context sizes...\")\n",
    "max_context = 40\n",
    "results = {\n",
    "    \"Dataset\": [\"Linear\", \"Gaussian\", \"Dynamical\"],\n",
    "    \"Errors\": [\n",
    "        evaluate_with_varying_context(model, test_linear, max_context, batch_size=32, device=device),\n",
    "        evaluate_with_varying_context(model, test_gaussian, max_context, batch_size=32, device=device),\n",
    "        evaluate_with_varying_context(model, test_dynamical, max_context, batch_size=32, device=device)\n",
    "    ]\n",
    "}\n",
    "\n",
    "# 保存评估结果\n",
    "results_df = pd.DataFrame({\n",
    "    \"Context_Size\": list(range(1, max_context + 1)),\n",
    "    \"Linear\": results[\"Errors\"][0],\n",
    "    \"Gaussian\": results[\"Errors\"][1],\n",
    "    \"Dynamical\": results[\"Errors\"][2]\n",
    "})\n",
    "results_df.to_csv(os.path.join(output_dir, \"context_varying_results.csv\"), index=False)\n",
    "print(\"Context-varying results saved to experiment_outputs_mamba1/context_varying_results.csv\")\n",
    "print(results_df)"
   ]
  },
  {
   "cell_type": "code",
   "execution_count": 8,
   "id": "1a6411a8-cf2f-4b75-b618-f132cd43b0b5",
   "metadata": {},
   "outputs": [
    {
     "data": {
      "image/png": "[encoded data removed]",
      "text/plain": [
       "<Figure size 1000x600 with 1 Axes>"
      ]
     },
     "metadata": {},
     "output_type": "display_data"
    },
    {
     "name": "stdout",
     "output_type": "stream",
     "text": [
      "Loss plot saved to experiment_outputs_mamba1/loss_plot.png\n"
     ]
    }
   ],
   "source": [
    "# 绘制损失曲线\n",
    "plt.figure(figsize=(10, 6))\n",
    "plt.plot(loss_df[\"epoch\"], loss_df[\"loss\"], marker='o', label=\"Training Loss\")\n",
    "plt.xlabel(\"Epoch\")\n",
    "plt.ylabel(\"Average MSE Loss\")\n",
    "plt.title(\"Training Loss over Epochs (Mamba1)\")\n",
    "plt.legend()\n",
    "plt.grid(True)\n",
    "\n",
    "# 保存图像\n",
    "plot_path = os.path.join(output_dir, \"loss_plot.png\")\n",
    "plt.savefig(plot_path)\n",
    "plt.show()\n",
    "print(f\"Loss plot saved to {plot_path}\")"
   ]
  },
  {
   "cell_type": "code",
   "execution_count": null,
   "id": "937f4012-dce0-46ee-af3f-9829eb1fd040",
   "metadata": {},
   "outputs": [],
   "source": [
    "# 绘制误差随上下文数量变化的折线图\n",
    "plt.figure(figsize=(10, 6))\n",
    "plt.plot(results_df[\"Context_Size\"], results_df[\"Linear\"], label=\"Linear\", marker='o')\n",
    "plt.plot(results_df[\"Context_Size\"], results_df[\"Gaussian\"], label=\"Gaussian\", marker='o')\n",
    "plt.plot(results_df[\"Context_Size\"], results_df[\"Dynamical\"], label=\"Dynamical\", marker='o')\n",
    "plt.xlabel(\"In-Context Examples\")\n",
    "plt.ylabel(\"Squared Error\")\n",
    "plt.title(\"Squared Error vs. In-Context Examples (Mamba1)\")\n",
    "plt.legend()\n",
    "plt.grid(True)\n",
    "\n",
    "# 保存图像\n",
    "plot_path = os.path.join(output_dir, \"context_error_plot.png\")\n",
    "plt.savefig(plot_path)\n",
    "plt.show()\n",
    "print(f\"Context error plot saved to {plot_path}\")"
   ]
  },
  {
   "cell_type": "code",
   "execution_count": null,
   "id": "3b1e362a-2cb2-43b8-b4a7-61c63715fa18",
   "metadata": {},
   "outputs": [],
   "source": []
  },
  {
   "cell_type": "code",
   "execution_count": null,
   "id": "e397a7d1-1297-4d57-b461-6baa1d73974f",
   "metadata": {},
   "outputs": [],
   "source": []
  },
  {
   "cell_type": "code",
   "execution_count": null,
   "id": "2fe6121d-b486-45ae-b54d-7d85e6530ee0",
   "metadata": {},
   "outputs": [],
   "source": []
  },
  {
   "cell_type": "code",
   "execution_count": null,
   "id": "2d98b468-6e23-4255-a494-e41a24a14e43",
   "metadata": {},
   "outputs": [],
   "source": []
  },
  {
   "cell_type": "code",
   "execution_count": null,
   "id": "4d5bc625-4dfb-48de-9d4c-441edbf1dda0",
   "metadata": {},
   "outputs": [],
   "source": []
  },
  {
   "cell_type": "code",
   "execution_count": null,
   "id": "c01437ac-5f9e-45a1-9270-cad3decf1938",
   "metadata": {},
   "outputs": [],
   "source": []
  },
  {
   "cell_type": "code",
   "execution_count": null,
   "id": "8a88bffd-b778-4813-9338-3555d5e7bd56",
   "metadata": {},
   "outputs": [],
   "source": []
  }
 ],
 "metadata": {
  "kernelspec": {
   "display_name": "Mamba ICL Env",
   "language": "python",
   "name": "mamba_icl_env"
  },
  "language_info": {
   "codemirror_mode": {
    "name": "ipython",
    "version": 3
   },
   "file_extension": ".py",
   "mimetype": "text/x-python",
   "name": "python",
   "nbconvert_exporter": "python",
   "pygments_lexer": "ipython3",
   "version": "3.10.12"
  }
 },
 "nbformat": 4,
 "nbformat_minor": 5
}
